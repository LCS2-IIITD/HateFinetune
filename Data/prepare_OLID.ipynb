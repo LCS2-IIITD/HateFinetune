{
 "cells": [
  {
   "cell_type": "code",
   "execution_count": 1,
   "id": "b8347823-e345-46a7-af95-f65b41317e37",
   "metadata": {},
   "outputs": [],
   "source": [
    "import pandas as pd"
   ]
  },
  {
   "cell_type": "code",
   "execution_count": 2,
   "id": "23962fe3-9ae0-4be6-8964-5d6092093b30",
   "metadata": {},
   "outputs": [],
   "source": [
    "BASE_PATH = 'raw_data/olid/'\n",
    "SAVE_PATH = 'prepared_data/'"
   ]
  },
  {
   "cell_type": "code",
   "execution_count": 3,
   "id": "69acbdf2-1b88-46f4-9dda-95bdcaf18a82",
   "metadata": {},
   "outputs": [],
   "source": [
    "olid_train = pd.read_csv(BASE_PATH + 'olid-training-v1.0.tsv', delimiter = '\\t')"
   ]
  },
  {
   "cell_type": "code",
   "execution_count": 4,
   "id": "49b39f7e-e340-4b26-9772-3bc8927007c9",
   "metadata": {},
   "outputs": [],
   "source": [
    "olid_levela_test_posts = pd.read_csv(BASE_PATH + 'testset-levela.tsv', delimiter = '\\t')\n",
    "olid_levelb_test_posts = pd.read_csv(BASE_PATH + 'testset-levelb.tsv', delimiter = '\\t')\n",
    "olid_levelc_test_posts = pd.read_csv(BASE_PATH + 'testset-levelc.tsv', delimiter = '\\t')"
   ]
  },
  {
   "cell_type": "code",
   "execution_count": 5,
   "id": "617e824f-9599-4240-b396-0f96513b4d49",
   "metadata": {},
   "outputs": [],
   "source": [
    "olid_levela_test_labels = pd.read_csv(BASE_PATH + 'labels-levela.csv', header=None)\n",
    "olid_levelb_test_labels = pd.read_csv(BASE_PATH + 'labels-levelb.csv', header=None)\n",
    "olid_levelc_test_labels = pd.read_csv(BASE_PATH + 'labels-levelc.csv', header=None)"
   ]
  },
  {
   "cell_type": "code",
   "execution_count": 6,
   "id": "fddd3f1d-7bd3-4717-932a-000561801868",
   "metadata": {},
   "outputs": [],
   "source": [
    "olid_levela_test_posts['labels'] = olid_levela_test_labels[1]\n",
    "olid_levela_test_posts.rename(columns={1: 'labels'}, inplace=True)\n",
    "\n",
    "olid_levelb_test_posts['labels'] = olid_levelb_test_labels[1]\n",
    "olid_levelb_test_posts.rename(columns={1: 'labels'}, inplace=True)\n",
    "\n",
    "olid_levelc_test_posts['labels'] = olid_levelc_test_labels[1]\n",
    "olid_levelc_test_posts.rename(columns={1: 'labels'}, inplace=True)"
   ]
  },
  {
   "cell_type": "code",
   "execution_count": 7,
   "id": "7c48a4df-e5e4-4b17-9912-5785ca1f1993",
   "metadata": {},
   "outputs": [],
   "source": [
    "olid_train_subtask_a = olid_train[['tweet', 'subtask_a']]\n",
    "olid_train_subtask_b = olid_train[['tweet', 'subtask_b']]\n",
    "olid_train_subtask_c = olid_train[['tweet', 'subtask_c']]"
   ]
  },
  {
   "cell_type": "code",
   "execution_count": 8,
   "id": "7e324adb-3c15-4542-bd53-ac4441a31597",
   "metadata": {},
   "outputs": [],
   "source": [
    "olid_levela_test_posts = olid_levela_test_posts[['tweet', 'labels']]\n",
    "olid_levelb_test_posts = olid_levelb_test_posts[['tweet', 'labels']]\n",
    "olid_levelc_test_posts = olid_levelc_test_posts[['tweet', 'labels']]"
   ]
  },
  {
   "cell_type": "code",
   "execution_count": 9,
   "id": "e4d8e2c8-8df9-40e7-b248-01dbf648d6df",
   "metadata": {},
   "outputs": [
    {
     "name": "stderr",
     "output_type": "stream",
     "text": [
      "/home/aflah20082/anaconda3/envs/py37/lib/python3.7/site-packages/pandas/util/_decorators.py:311: SettingWithCopyWarning: \n",
      "A value is trying to be set on a copy of a slice from a DataFrame\n",
      "\n",
      "See the caveats in the documentation: https://pandas.pydata.org/pandas-docs/stable/user_guide/indexing.html#returning-a-view-versus-a-copy\n",
      "  return func(*args, **kwargs)\n"
     ]
    }
   ],
   "source": [
    "olid_train_subtask_a.dropna(inplace = True)\n",
    "olid_train_subtask_b.dropna(inplace = True)\n",
    "olid_train_subtask_c.dropna(inplace = True)\n",
    "\n",
    "olid_levela_test_posts.dropna(inplace = True)\n",
    "olid_levelb_test_posts.dropna(inplace = True)\n",
    "olid_levelc_test_posts.dropna(inplace = True)"
   ]
  },
  {
   "cell_type": "code",
   "execution_count": 10,
   "id": "28bda482-119a-4cd4-8847-aa0a21e5c0b7",
   "metadata": {},
   "outputs": [],
   "source": [
    "import cleansetext\n",
    "from cleansetext.pipeline import Pipeline\n",
    "from cleansetext.steps import *\n",
    "from nltk.tokenize import TweetTokenizer\n",
    "\n",
    "tk = TweetTokenizer()\n",
    "\n",
    "# Create a pipeline with a list of preprocessing steps\n",
    "pipeline = Pipeline([\n",
    "    RemoveEmojis(),\n",
    "    RemoveAllPunctuations(),\n",
    "    RemoveTokensWithOnlyPunctuations(),\n",
    "    ReplaceURLsandHTMLTags(),\n",
    "    ReplaceUsernames(),\n",
    "    RemoveWhiteSpaceOrChunksOfWhiteSpace()\n",
    "], track_diffs=False)\n",
    "\n",
    "def apply_preprocessing(text):\n",
    "    text = tk.tokenize(text)\n",
    "    text = pipeline.process(text)\n",
    "    return \" \".join(text)"
   ]
  },
  {
   "cell_type": "code",
   "execution_count": 11,
   "id": "bb5a24d2-7763-4edd-a489-4cd9417fd2ad",
   "metadata": {},
   "outputs": [
    {
     "name": "stderr",
     "output_type": "stream",
     "text": [
      "/home/aflah20082/anaconda3/envs/py37/lib/python3.7/site-packages/ipykernel_launcher.py:1: SettingWithCopyWarning: \n",
      "A value is trying to be set on a copy of a slice from a DataFrame.\n",
      "Try using .loc[row_indexer,col_indexer] = value instead\n",
      "\n",
      "See the caveats in the documentation: https://pandas.pydata.org/pandas-docs/stable/user_guide/indexing.html#returning-a-view-versus-a-copy\n",
      "  \"\"\"Entry point for launching an IPython kernel.\n",
      "/home/aflah20082/anaconda3/envs/py37/lib/python3.7/site-packages/ipykernel_launcher.py:2: SettingWithCopyWarning: \n",
      "A value is trying to be set on a copy of a slice from a DataFrame.\n",
      "Try using .loc[row_indexer,col_indexer] = value instead\n",
      "\n",
      "See the caveats in the documentation: https://pandas.pydata.org/pandas-docs/stable/user_guide/indexing.html#returning-a-view-versus-a-copy\n",
      "  \n",
      "/home/aflah20082/anaconda3/envs/py37/lib/python3.7/site-packages/ipykernel_launcher.py:3: SettingWithCopyWarning: \n",
      "A value is trying to be set on a copy of a slice from a DataFrame.\n",
      "Try using .loc[row_indexer,col_indexer] = value instead\n",
      "\n",
      "See the caveats in the documentation: https://pandas.pydata.org/pandas-docs/stable/user_guide/indexing.html#returning-a-view-versus-a-copy\n",
      "  This is separate from the ipykernel package so we can avoid doing imports until\n"
     ]
    }
   ],
   "source": [
    "olid_train_subtask_a['tweet'] = olid_train_subtask_a['tweet'].apply(lambda x: apply_preprocessing(x))\n",
    "olid_train_subtask_b['tweet'] = olid_train_subtask_b['tweet'].apply(lambda x: apply_preprocessing(x))\n",
    "olid_train_subtask_c['tweet'] = olid_train_subtask_c['tweet'].apply(lambda x: apply_preprocessing(x))\n",
    "\n",
    "olid_levela_test_posts['tweet'] = olid_levela_test_posts['tweet'].apply(lambda x: apply_preprocessing(x))\n",
    "olid_levelb_test_posts['tweet'] = olid_levelb_test_posts['tweet'].apply(lambda x: apply_preprocessing(x))\n",
    "olid_levelc_test_posts['tweet'] = olid_levelc_test_posts['tweet'].apply(lambda x: apply_preprocessing(x))\\"
   ]
  },
  {
   "cell_type": "code",
   "execution_count": 12,
   "id": "a317874f-2f75-4bf5-81d5-e6ed7f32efb4",
   "metadata": {},
   "outputs": [
    {
     "name": "stderr",
     "output_type": "stream",
     "text": [
      "/home/aflah20082/anaconda3/envs/py37/lib/python3.7/site-packages/pandas/core/frame.py:5047: SettingWithCopyWarning: \n",
      "A value is trying to be set on a copy of a slice from a DataFrame\n",
      "\n",
      "See the caveats in the documentation: https://pandas.pydata.org/pandas-docs/stable/user_guide/indexing.html#returning-a-view-versus-a-copy\n",
      "  errors=errors,\n"
     ]
    }
   ],
   "source": [
    "olid_train_subtask_a.rename(columns = {'tweet':'text', 'subtask_a':'label'}, inplace = True)\n",
    "olid_train_subtask_b.rename(columns = {'tweet':'text', 'subtask_b':'label'}, inplace = True)\n",
    "olid_train_subtask_c.rename(columns = {'tweet':'text', 'subtask_c':'label'}, inplace = True)\n",
    "\n",
    "olid_levela_test_posts.rename(columns = {'tweet':'text', 'labels':'label'}, inplace = True)\n",
    "olid_levelb_test_posts.rename(columns = {'tweet':'text', 'labels':'label'}, inplace = True)\n",
    "olid_levelc_test_posts.rename(columns = {'tweet':'text', 'labels':'label'}, inplace = True)"
   ]
  },
  {
   "cell_type": "code",
   "execution_count": 13,
   "id": "2645a5ce-f1d2-465c-82f1-f770bfe1cf97",
   "metadata": {},
   "outputs": [],
   "source": [
    "olid_train_subtask_a.to_csv(SAVE_PATH + 'olid_train_A.csv')\n",
    "olid_train_subtask_b.to_csv(SAVE_PATH + 'olid_train_B.csv')\n",
    "olid_train_subtask_c.to_csv(SAVE_PATH + 'olid_train_C.csv')\n",
    "\n",
    "olid_levela_test_posts.to_csv(SAVE_PATH + 'olid_test_A.csv')\n",
    "olid_levelb_test_posts.to_csv(SAVE_PATH + 'olid_test_B.csv')\n",
    "olid_levelc_test_posts.to_csv(SAVE_PATH + 'olid_test_C.csv')"
   ]
  },
  {
   "cell_type": "code",
   "execution_count": 15,
   "id": "1989c08e-7a05-448b-b19a-64285eac533f",
   "metadata": {},
   "outputs": [
    {
     "data": {
      "text/plain": [
       "(13240, 4400, 3876)"
      ]
     },
     "execution_count": 15,
     "metadata": {},
     "output_type": "execute_result"
    }
   ],
   "source": [
    "len(olid_train_subtask_a), len(olid_train_subtask_b), len(olid_train_subtask_c)"
   ]
  },
  {
   "cell_type": "code",
   "execution_count": 16,
   "id": "a8806af3-3d19-4df4-8406-c85aeb090b88",
   "metadata": {},
   "outputs": [
    {
     "data": {
      "text/plain": [
       "(860, 240, 213)"
      ]
     },
     "execution_count": 16,
     "metadata": {},
     "output_type": "execute_result"
    }
   ],
   "source": [
    "len(olid_levela_test_posts), len(olid_levelb_test_posts), len(olid_levelc_test_posts)"
   ]
  },
  {
   "cell_type": "code",
   "execution_count": null,
   "id": "ef5fb78a-1555-4732-86a6-a022f24969d8",
   "metadata": {},
   "outputs": [],
   "source": []
  }
 ],
 "metadata": {
  "kernelspec": {
   "display_name": "py37",
   "language": "python",
   "name": "py37"
  },
  "language_info": {
   "codemirror_mode": {
    "name": "ipython",
    "version": 3
   },
   "file_extension": ".py",
   "mimetype": "text/x-python",
   "name": "python",
   "nbconvert_exporter": "python",
   "pygments_lexer": "ipython3",
   "version": "3.7.11"
  }
 },
 "nbformat": 4,
 "nbformat_minor": 5
}
