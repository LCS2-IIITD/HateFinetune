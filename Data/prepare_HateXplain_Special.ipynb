{
 "cells": [
  {
   "cell_type": "markdown",
   "id": "e796dc0f-350a-4794-817f-d96737fdb80a",
   "metadata": {},
   "source": [
    "HateXplain\n",
    "\n",
    "https://github.com/punyajoy/HateXplain\n",
    "\n",
    "https://arxiv.org/pdf/2012.10289.pdf"
   ]
  },
  {
   "cell_type": "code",
   "execution_count": 1,
   "id": "f788ab2d-2325-4fc7-a7af-4c9494d3a1e6",
   "metadata": {},
   "outputs": [],
   "source": [
    "import pandas as pd"
   ]
  },
  {
   "cell_type": "code",
   "execution_count": 2,
   "id": "2e4869fb-a0eb-4a14-9ab9-473b98601ed5",
   "metadata": {},
   "outputs": [],
   "source": [
    "import json\n",
    "with open('raw_data/hateXplain.json') as f:\n",
    "  hatxplain = json.load(f)"
   ]
  },
  {
   "cell_type": "code",
   "execution_count": 3,
   "id": "02667872-747c-45b6-ab27-bfe7efefc2bf",
   "metadata": {},
   "outputs": [],
   "source": [
    "df = pd.DataFrame.from_dict(hatxplain, orient=\"index\")"
   ]
  },
  {
   "cell_type": "code",
   "execution_count": 4,
   "id": "cd391c23-4579-4b9a-9591-b5fa68311373",
   "metadata": {},
   "outputs": [
    {
     "data": {
      "text/plain": [
       "Index(['post_id', 'annotators', 'rationales', 'post_tokens'], dtype='object')"
      ]
     },
     "execution_count": 4,
     "metadata": {},
     "output_type": "execute_result"
    }
   ],
   "source": [
    "df.columns"
   ]
  },
  {
   "cell_type": "code",
   "execution_count": 5,
   "id": "dc03be61-0846-4266-a9f3-54ada24db106",
   "metadata": {},
   "outputs": [],
   "source": [
    "annotator_data = df['annotators'].to_list()\n",
    "rationales = df['rationales'].to_list()\n",
    "posts = df['post_tokens'].to_list()"
   ]
  },
  {
   "cell_type": "code",
   "execution_count": 6,
   "id": "45bc3681-d59c-4de5-bae9-b27d71bec08b",
   "metadata": {},
   "outputs": [],
   "source": [
    "target_groups = ['African', 'Arabs', 'Asians', 'Caucasian', 'Hispanic', \n",
    "                 'Buddhism', 'Christian', 'Hindu', 'Islam', 'Jewish',\n",
    "                 'Men', 'Women',\n",
    "                 'Heterosexual', 'Gay',\n",
    "                 'Indigenous', 'Refugee/Immigrant', 'None', 'Others']"
   ]
  },
  {
   "cell_type": "code",
   "execution_count": 7,
   "id": "8c9b913f-7b34-4955-9585-2ed0c4b4e8d3",
   "metadata": {},
   "outputs": [],
   "source": [
    "labels = []\n",
    "targets = []\n",
    "\n",
    "for i in annotator_data:\n",
    "    temp_ls = []\n",
    "    temp_targets = []\n",
    "    for dicts in i:\n",
    "        temp_ls.append(dicts['label'])\n",
    "        temp_targets.append(dicts['target'])\n",
    "    count_hate = temp_ls.count('hatespeech')\n",
    "    count_normal = temp_ls.count('normal')\n",
    "    count_off = temp_ls.count('offensive')\n",
    "    if count_hate + count_off > 0:\n",
    "        labels.append('Hateful')\n",
    "    else:\n",
    "        labels.append('Normal')\n",
    "        \n",
    "    target_dict = {}\n",
    "    \n",
    "    for target_ls in temp_targets:\n",
    "        target_ls = list(set(target_ls))\n",
    "        for target in target_ls:\n",
    "            if target in target_dict.keys():\n",
    "                target_dict[target] += 1\n",
    "            else:\n",
    "                target_dict[target] = 1\n",
    "    \n",
    "    final_targets = []\n",
    "    \n",
    "    for some_target in target_dict:\n",
    "        if target_dict[some_target] >= 2:\n",
    "            final_targets.append(some_target)\n",
    "    \n",
    "    if final_targets == []:\n",
    "        targets.append(['None'])\n",
    "    else:\n",
    "        targets.append(sorted(final_targets))"
   ]
  },
  {
   "cell_type": "code",
   "execution_count": 8,
   "id": "671e27d1-ca04-4806-976f-7082eaa90c9e",
   "metadata": {},
   "outputs": [],
   "source": [
    "post_sentences = []\n",
    "for post in posts:\n",
    "    post_sentences.append(\" \".join(post))"
   ]
  },
  {
   "cell_type": "code",
   "execution_count": 9,
   "id": "e92bee71-aff7-4f47-810e-332f0c2359ee",
   "metadata": {},
   "outputs": [
    {
     "data": {
      "text/plain": [
       "(20148, 20148, 20148, 20148, 20148)"
      ]
     },
     "execution_count": 9,
     "metadata": {},
     "output_type": "execute_result"
    }
   ],
   "source": [
    "len(post_sentences), len(targets), len(labels), len(rationales), len(posts)"
   ]
  },
  {
   "cell_type": "code",
   "execution_count": 10,
   "id": "b33d9c37-289b-41b2-88de-35c1145b020d",
   "metadata": {},
   "outputs": [],
   "source": [
    "final_posts = []\n",
    "final_labels = []\n",
    "final_rationales = []\n",
    "final_targets = []\n",
    "final_post_tokens = []\n",
    "\n",
    "for i in range(len(post_sentences)):\n",
    "    num_targets = len(targets[i])\n",
    "    for target_idx in range(num_targets):\n",
    "        final_posts.append(post_sentences[i])\n",
    "        final_labels.append(labels[i])\n",
    "        final_targets.append(targets[i][target_idx])\n",
    "        final_rationales.append(rationales[i])\n",
    "        final_post_tokens.append(posts[i])"
   ]
  },
  {
   "cell_type": "code",
   "execution_count": 11,
   "id": "f241f864-73be-4f0f-a7d8-4e211d601b2b",
   "metadata": {},
   "outputs": [
    {
     "data": {
      "text/plain": [
       "(22843, 22843, 22843, 22843, 22843)"
      ]
     },
     "execution_count": 11,
     "metadata": {},
     "output_type": "execute_result"
    }
   ],
   "source": [
    "len(final_posts), len(final_labels), len(final_targets), len(final_rationales), len(final_post_tokens)"
   ]
  },
  {
   "cell_type": "code",
   "execution_count": 12,
   "id": "139ed7c0-ee09-42a8-a133-daa86f08dd70",
   "metadata": {},
   "outputs": [],
   "source": [
    "df_hateXplain = pd.DataFrame({'final_posts':final_posts, \n",
    "                              'final_labels':final_labels, \n",
    "                              'final_targets':final_targets,\n",
    "                              'final_rationales':final_rationales,\n",
    "                              'final_post_tokens':final_post_tokens\n",
    "                            })"
   ]
  },
  {
   "cell_type": "code",
   "execution_count": 13,
   "id": "09dc4d9b-a567-4e20-ae3b-64205a4f024b",
   "metadata": {},
   "outputs": [
    {
     "data": {
      "text/html": [
       "<div>\n",
       "<style scoped>\n",
       "    .dataframe tbody tr th:only-of-type {\n",
       "        vertical-align: middle;\n",
       "    }\n",
       "\n",
       "    .dataframe tbody tr th {\n",
       "        vertical-align: top;\n",
       "    }\n",
       "\n",
       "    .dataframe thead th {\n",
       "        text-align: right;\n",
       "    }\n",
       "</style>\n",
       "<table border=\"1\" class=\"dataframe\">\n",
       "  <thead>\n",
       "    <tr style=\"text-align: right;\">\n",
       "      <th></th>\n",
       "      <th>final_posts</th>\n",
       "      <th>final_labels</th>\n",
       "      <th>final_targets</th>\n",
       "      <th>final_rationales</th>\n",
       "      <th>final_post_tokens</th>\n",
       "    </tr>\n",
       "  </thead>\n",
       "  <tbody>\n",
       "    <tr>\n",
       "      <th>0</th>\n",
       "      <td>i dont think im getting my baby them white 9 h...</td>\n",
       "      <td>Normal</td>\n",
       "      <td>None</td>\n",
       "      <td>[]</td>\n",
       "      <td>[i, dont, think, im, getting, my, baby, them, ...</td>\n",
       "    </tr>\n",
       "    <tr>\n",
       "      <th>1</th>\n",
       "      <td>we cannot continue calling ourselves feminists...</td>\n",
       "      <td>Normal</td>\n",
       "      <td>None</td>\n",
       "      <td>[]</td>\n",
       "      <td>[we, cannot, continue, calling, ourselves, fem...</td>\n",
       "    </tr>\n",
       "    <tr>\n",
       "      <th>2</th>\n",
       "      <td>nawt yall niggers ignoring me</td>\n",
       "      <td>Hateful</td>\n",
       "      <td>African</td>\n",
       "      <td>[]</td>\n",
       "      <td>[nawt, yall, niggers, ignoring, me]</td>\n",
       "    </tr>\n",
       "    <tr>\n",
       "      <th>3</th>\n",
       "      <td>&lt;user&gt; i am bit confused coz chinese ppl can n...</td>\n",
       "      <td>Hateful</td>\n",
       "      <td>Asian</td>\n",
       "      <td>[[0, 0, 0, 0, 0, 0, 0, 0, 0, 0, 0, 0, 0, 0, 0,...</td>\n",
       "      <td>[&lt;user&gt;, i, am, bit, confused, coz, chinese, p...</td>\n",
       "    </tr>\n",
       "    <tr>\n",
       "      <th>4</th>\n",
       "      <td>this bitch in whataburger eating a burger with...</td>\n",
       "      <td>Hateful</td>\n",
       "      <td>Caucasian</td>\n",
       "      <td>[[0, 1, 0, 0, 0, 0, 0, 0, 0, 0, 0, 0, 0, 0, 0,...</td>\n",
       "      <td>[this, bitch, in, whataburger, eating, a, burg...</td>\n",
       "    </tr>\n",
       "    <tr>\n",
       "      <th>...</th>\n",
       "      <td>...</td>\n",
       "      <td>...</td>\n",
       "      <td>...</td>\n",
       "      <td>...</td>\n",
       "      <td>...</td>\n",
       "    </tr>\n",
       "    <tr>\n",
       "      <th>22838</th>\n",
       "      <td>was macht der moslem wenn der zion gegen seine...</td>\n",
       "      <td>Hateful</td>\n",
       "      <td>None</td>\n",
       "      <td>[]</td>\n",
       "      <td>[was, macht, der, moslem, wenn, der, zion, geg...</td>\n",
       "    </tr>\n",
       "    <tr>\n",
       "      <th>22839</th>\n",
       "      <td>it is awful look at world demographics asians ...</td>\n",
       "      <td>Hateful</td>\n",
       "      <td>Asian</td>\n",
       "      <td>[[0, 0, 0, 0, 0, 0, 0, 1, 1, 1, 1, 0, 0, 1, 1,...</td>\n",
       "      <td>[it, is, awful, look, at, world, demographics,...</td>\n",
       "    </tr>\n",
       "    <tr>\n",
       "      <th>22840</th>\n",
       "      <td>the jewish globalist elite have only imported ...</td>\n",
       "      <td>Hateful</td>\n",
       "      <td>African</td>\n",
       "      <td>[[0, 0, 0, 0, 0, 0, 0, 0, 1, 1, 1, 1, 1, 0, 0,...</td>\n",
       "      <td>[the, jewish, globalist, elite, have, only, im...</td>\n",
       "    </tr>\n",
       "    <tr>\n",
       "      <th>22841</th>\n",
       "      <td>the jewish globalist elite have only imported ...</td>\n",
       "      <td>Hateful</td>\n",
       "      <td>Islam</td>\n",
       "      <td>[[0, 0, 0, 0, 0, 0, 0, 0, 1, 1, 1, 1, 1, 0, 0,...</td>\n",
       "      <td>[the, jewish, globalist, elite, have, only, im...</td>\n",
       "    </tr>\n",
       "    <tr>\n",
       "      <th>22842</th>\n",
       "      <td>the jewish globalist elite have only imported ...</td>\n",
       "      <td>Hateful</td>\n",
       "      <td>Jewish</td>\n",
       "      <td>[[0, 0, 0, 0, 0, 0, 0, 0, 1, 1, 1, 1, 1, 0, 0,...</td>\n",
       "      <td>[the, jewish, globalist, elite, have, only, im...</td>\n",
       "    </tr>\n",
       "  </tbody>\n",
       "</table>\n",
       "<p>22843 rows × 5 columns</p>\n",
       "</div>"
      ],
      "text/plain": [
       "                                             final_posts final_labels  \\\n",
       "0      i dont think im getting my baby them white 9 h...       Normal   \n",
       "1      we cannot continue calling ourselves feminists...       Normal   \n",
       "2                          nawt yall niggers ignoring me      Hateful   \n",
       "3      <user> i am bit confused coz chinese ppl can n...      Hateful   \n",
       "4      this bitch in whataburger eating a burger with...      Hateful   \n",
       "...                                                  ...          ...   \n",
       "22838  was macht der moslem wenn der zion gegen seine...      Hateful   \n",
       "22839  it is awful look at world demographics asians ...      Hateful   \n",
       "22840  the jewish globalist elite have only imported ...      Hateful   \n",
       "22841  the jewish globalist elite have only imported ...      Hateful   \n",
       "22842  the jewish globalist elite have only imported ...      Hateful   \n",
       "\n",
       "      final_targets                                   final_rationales  \\\n",
       "0              None                                                 []   \n",
       "1              None                                                 []   \n",
       "2           African                                                 []   \n",
       "3             Asian  [[0, 0, 0, 0, 0, 0, 0, 0, 0, 0, 0, 0, 0, 0, 0,...   \n",
       "4         Caucasian  [[0, 1, 0, 0, 0, 0, 0, 0, 0, 0, 0, 0, 0, 0, 0,...   \n",
       "...             ...                                                ...   \n",
       "22838          None                                                 []   \n",
       "22839         Asian  [[0, 0, 0, 0, 0, 0, 0, 1, 1, 1, 1, 0, 0, 1, 1,...   \n",
       "22840       African  [[0, 0, 0, 0, 0, 0, 0, 0, 1, 1, 1, 1, 1, 0, 0,...   \n",
       "22841         Islam  [[0, 0, 0, 0, 0, 0, 0, 0, 1, 1, 1, 1, 1, 0, 0,...   \n",
       "22842        Jewish  [[0, 0, 0, 0, 0, 0, 0, 0, 1, 1, 1, 1, 1, 0, 0,...   \n",
       "\n",
       "                                       final_post_tokens  \n",
       "0      [i, dont, think, im, getting, my, baby, them, ...  \n",
       "1      [we, cannot, continue, calling, ourselves, fem...  \n",
       "2                    [nawt, yall, niggers, ignoring, me]  \n",
       "3      [<user>, i, am, bit, confused, coz, chinese, p...  \n",
       "4      [this, bitch, in, whataburger, eating, a, burg...  \n",
       "...                                                  ...  \n",
       "22838  [was, macht, der, moslem, wenn, der, zion, geg...  \n",
       "22839  [it, is, awful, look, at, world, demographics,...  \n",
       "22840  [the, jewish, globalist, elite, have, only, im...  \n",
       "22841  [the, jewish, globalist, elite, have, only, im...  \n",
       "22842  [the, jewish, globalist, elite, have, only, im...  \n",
       "\n",
       "[22843 rows x 5 columns]"
      ]
     },
     "execution_count": 13,
     "metadata": {},
     "output_type": "execute_result"
    }
   ],
   "source": [
    "df_hateXplain"
   ]
  },
  {
   "cell_type": "code",
   "execution_count": 14,
   "id": "5825405a-a0bb-4948-8861-cc8d523673f1",
   "metadata": {},
   "outputs": [],
   "source": [
    "import cleansetext\n",
    "from cleansetext.pipeline import Pipeline\n",
    "from cleansetext.steps import *\n",
    "from nltk.tokenize import TweetTokenizer\n",
    "\n",
    "tk = TweetTokenizer()\n",
    "\n",
    "# Create a pipeline with a list of preprocessing steps\n",
    "pipeline = Pipeline([\n",
    "    RemoveEmojis(),\n",
    "    RemoveAllPunctuations(),\n",
    "    RemoveTokensWithOnlyPunctuations(),\n",
    "    ReplaceURLsandHTMLTags(),\n",
    "    ReplaceUsernames(),\n",
    "    RemoveWhiteSpaceOrChunksOfWhiteSpace()\n",
    "], track_diffs=False)\n",
    "\n",
    "def apply_preprocessing(text):\n",
    "    text = tk.tokenize(text)\n",
    "    text = pipeline.process(text)\n",
    "    return \" \".join(text)"
   ]
  },
  {
   "cell_type": "code",
   "execution_count": 15,
   "id": "68be725c-ff19-49f2-8f0b-1828302ee4ee",
   "metadata": {},
   "outputs": [],
   "source": [
    "df_hateXplain['final_posts'] = df_hateXplain['final_posts'].apply(lambda x: apply_preprocessing(x))"
   ]
  },
  {
   "cell_type": "code",
   "execution_count": 16,
   "id": "f7d71c8f-0919-43f9-b751-af923160662c",
   "metadata": {},
   "outputs": [],
   "source": [
    "SAVE_PATH = 'prepared_data/'"
   ]
  },
  {
   "cell_type": "code",
   "execution_count": 17,
   "id": "6ef74125-3b5d-4316-92f4-a9faa1be8e2a",
   "metadata": {},
   "outputs": [],
   "source": [
    "from sklearn.model_selection import train_test_split\n",
    "\n",
    "df_hateXplain_train, df_hateXplain_test = train_test_split(df_hateXplain, random_state=42, test_size=0.25)"
   ]
  },
  {
   "cell_type": "code",
   "execution_count": 18,
   "id": "41aedbdf-0c1d-4c44-b0ff-2a5ce206521b",
   "metadata": {},
   "outputs": [],
   "source": [
    "df_hateXplain_train_label_pred = df_hateXplain_train[['final_posts', 'final_labels']]\n",
    "df_hateXplain_test_label_pred = df_hateXplain_test[['final_posts', 'final_labels']]\n",
    "\n",
    "df_hateXplain_train_target_pred = df_hateXplain_train[['final_posts', 'final_targets']]\n",
    "df_hateXplain_test_target_pred = df_hateXplain_test[['final_posts', 'final_targets']]"
   ]
  },
  {
   "cell_type": "code",
   "execution_count": 19,
   "id": "7d8b9e23-2ca8-42a0-84a5-2431a9099c11",
   "metadata": {},
   "outputs": [],
   "source": [
    "df_hateXplain_train_label_pred.to_csv(SAVE_PATH + 'df_hateXplain_train_label_pred_special.csv')\n",
    "df_hateXplain_test_label_pred.to_csv(SAVE_PATH + 'df_hateXplain_test_label_pred_special.csv')\n",
    "\n",
    "df_hateXplain_train_target_pred.to_csv(SAVE_PATH + 'df_hateXplain_train_target_pred_special.csv')\n",
    "df_hateXplain_train_target_pred.to_csv(SAVE_PATH + 'df_hateXplain_test_target_pred_special.csv')"
   ]
  }
 ],
 "metadata": {
  "kernelspec": {
   "display_name": "myenv",
   "language": "python",
   "name": "python3"
  },
  "language_info": {
   "codemirror_mode": {
    "name": "ipython",
    "version": 3
   },
   "file_extension": ".py",
   "mimetype": "text/x-python",
   "name": "python",
   "nbconvert_exporter": "python",
   "pygments_lexer": "ipython3",
   "version": "3.9.15"
  }
 },
 "nbformat": 4,
 "nbformat_minor": 5
}
