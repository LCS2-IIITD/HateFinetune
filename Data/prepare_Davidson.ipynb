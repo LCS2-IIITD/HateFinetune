{
 "cells": [
  {
   "cell_type": "code",
   "execution_count": 1,
   "id": "86d35af1-4ee8-496e-8821-57cf76c446b7",
   "metadata": {},
   "outputs": [],
   "source": [
    "import pandas as pd"
   ]
  },
  {
   "cell_type": "code",
   "execution_count": 2,
   "id": "d1d72062-ca6e-488e-89d1-fe398b446952",
   "metadata": {},
   "outputs": [],
   "source": [
    "BASE_PATH = 'raw_data/'"
   ]
  },
  {
   "cell_type": "code",
   "execution_count": 3,
   "id": "8ee6649b-0d6c-48d7-a8d5-2d83322dd06e",
   "metadata": {},
   "outputs": [],
   "source": [
    "df = pd.read_csv(BASE_PATH + 'davidson_raw_labeled_data (2).csv')"
   ]
  },
  {
   "cell_type": "code",
   "execution_count": 5,
   "id": "7fb8f1d4-661d-4376-a3dd-11e6177856e2",
   "metadata": {},
   "outputs": [],
   "source": [
    "classes = df['class'].to_list()\n",
    "tweets = df['tweet'].to_list()"
   ]
  },
  {
   "cell_type": "code",
   "execution_count": 7,
   "id": "03d01020-b609-4abb-a2aa-3fb3437cb1dc",
   "metadata": {},
   "outputs": [],
   "source": [
    "labels = []\n",
    "for i in classes:\n",
    "    if i == 0 or i == 1:\n",
    "        labels.append('Hate')\n",
    "    else:\n",
    "        labels.append('NonHate')"
   ]
  },
  {
   "cell_type": "code",
   "execution_count": 8,
   "id": "63cef3a7-5910-4bc7-93c6-c2cf0623d54d",
   "metadata": {},
   "outputs": [],
   "source": [
    "df_final = pd.DataFrame({'final_posts':tweets, \n",
    "                              'final_labels':labels, \n",
    "                            })"
   ]
  },
  {
   "cell_type": "code",
   "execution_count": 9,
   "id": "974b2d0a-006e-4ada-9c66-f78fd5968de1",
   "metadata": {},
   "outputs": [
    {
     "data": {
      "text/html": [
       "<div>\n",
       "<style scoped>\n",
       "    .dataframe tbody tr th:only-of-type {\n",
       "        vertical-align: middle;\n",
       "    }\n",
       "\n",
       "    .dataframe tbody tr th {\n",
       "        vertical-align: top;\n",
       "    }\n",
       "\n",
       "    .dataframe thead th {\n",
       "        text-align: right;\n",
       "    }\n",
       "</style>\n",
       "<table border=\"1\" class=\"dataframe\">\n",
       "  <thead>\n",
       "    <tr style=\"text-align: right;\">\n",
       "      <th></th>\n",
       "      <th>final_posts</th>\n",
       "      <th>final_labels</th>\n",
       "    </tr>\n",
       "  </thead>\n",
       "  <tbody>\n",
       "    <tr>\n",
       "      <th>0</th>\n",
       "      <td>!!! RT @mayasolovely: As a woman you shouldn't...</td>\n",
       "      <td>NonHate</td>\n",
       "    </tr>\n",
       "    <tr>\n",
       "      <th>1</th>\n",
       "      <td>!!!!! RT @mleew17: boy dats cold...tyga dwn ba...</td>\n",
       "      <td>Hate</td>\n",
       "    </tr>\n",
       "    <tr>\n",
       "      <th>2</th>\n",
       "      <td>!!!!!!! RT @UrKindOfBrand Dawg!!!! RT @80sbaby...</td>\n",
       "      <td>Hate</td>\n",
       "    </tr>\n",
       "    <tr>\n",
       "      <th>3</th>\n",
       "      <td>!!!!!!!!! RT @C_G_Anderson: @viva_based she lo...</td>\n",
       "      <td>Hate</td>\n",
       "    </tr>\n",
       "    <tr>\n",
       "      <th>4</th>\n",
       "      <td>!!!!!!!!!!!!! RT @ShenikaRoberts: The shit you...</td>\n",
       "      <td>Hate</td>\n",
       "    </tr>\n",
       "    <tr>\n",
       "      <th>...</th>\n",
       "      <td>...</td>\n",
       "      <td>...</td>\n",
       "    </tr>\n",
       "    <tr>\n",
       "      <th>24778</th>\n",
       "      <td>you's a muthaf***in lie &amp;#8220;@LifeAsKing: @2...</td>\n",
       "      <td>Hate</td>\n",
       "    </tr>\n",
       "    <tr>\n",
       "      <th>24779</th>\n",
       "      <td>you've gone and broke the wrong heart baby, an...</td>\n",
       "      <td>NonHate</td>\n",
       "    </tr>\n",
       "    <tr>\n",
       "      <th>24780</th>\n",
       "      <td>young buck wanna eat!!.. dat nigguh like I ain...</td>\n",
       "      <td>Hate</td>\n",
       "    </tr>\n",
       "    <tr>\n",
       "      <th>24781</th>\n",
       "      <td>youu got wild bitches tellin you lies</td>\n",
       "      <td>Hate</td>\n",
       "    </tr>\n",
       "    <tr>\n",
       "      <th>24782</th>\n",
       "      <td>~~Ruffled | Ntac Eileen Dahlia - Beautiful col...</td>\n",
       "      <td>NonHate</td>\n",
       "    </tr>\n",
       "  </tbody>\n",
       "</table>\n",
       "<p>24783 rows × 2 columns</p>\n",
       "</div>"
      ],
      "text/plain": [
       "                                             final_posts final_labels\n",
       "0      !!! RT @mayasolovely: As a woman you shouldn't...      NonHate\n",
       "1      !!!!! RT @mleew17: boy dats cold...tyga dwn ba...         Hate\n",
       "2      !!!!!!! RT @UrKindOfBrand Dawg!!!! RT @80sbaby...         Hate\n",
       "3      !!!!!!!!! RT @C_G_Anderson: @viva_based she lo...         Hate\n",
       "4      !!!!!!!!!!!!! RT @ShenikaRoberts: The shit you...         Hate\n",
       "...                                                  ...          ...\n",
       "24778  you's a muthaf***in lie &#8220;@LifeAsKing: @2...         Hate\n",
       "24779  you've gone and broke the wrong heart baby, an...      NonHate\n",
       "24780  young buck wanna eat!!.. dat nigguh like I ain...         Hate\n",
       "24781              youu got wild bitches tellin you lies         Hate\n",
       "24782  ~~Ruffled | Ntac Eileen Dahlia - Beautiful col...      NonHate\n",
       "\n",
       "[24783 rows x 2 columns]"
      ]
     },
     "execution_count": 9,
     "metadata": {},
     "output_type": "execute_result"
    }
   ],
   "source": [
    "df_final"
   ]
  },
  {
   "cell_type": "code",
   "execution_count": null,
   "id": "0102c2a8-1f88-4e3e-8d7b-7a982d0558a4",
   "metadata": {},
   "outputs": [],
   "source": []
  }
 ],
 "metadata": {
  "kernelspec": {
   "display_name": "Python 3 (ipykernel)",
   "language": "python",
   "name": "python3"
  },
  "language_info": {
   "codemirror_mode": {
    "name": "ipython",
    "version": 3
   },
   "file_extension": ".py",
   "mimetype": "text/x-python",
   "name": "python",
   "nbconvert_exporter": "python",
   "pygments_lexer": "ipython3",
   "version": "3.6.9"
  }
 },
 "nbformat": 4,
 "nbformat_minor": 5
}
