{
 "cells": [
  {
   "cell_type": "code",
   "execution_count": 3,
   "id": "928d5844-7ddd-49a6-9b53-5b0bfedd3d5f",
   "metadata": {},
   "outputs": [],
   "source": [
    "import pandas as pd"
   ]
  },
  {
   "cell_type": "code",
   "execution_count": 4,
   "id": "7c72378f-1e53-426e-afd0-cdce4f384f8b",
   "metadata": {},
   "outputs": [],
   "source": [
    "founta_path = 'raw_data/founta.json'"
   ]
  },
  {
   "cell_type": "code",
   "execution_count": 5,
   "id": "c7abfa0e-251f-4a10-84d4-2232e7d2eceb",
   "metadata": {},
   "outputs": [],
   "source": [
    "import json\n",
    "with open(founta_path) as f:\n",
    "  founta = json.load(f)"
   ]
  },
  {
   "cell_type": "code",
   "execution_count": 6,
   "id": "e15fa1fd-7698-474b-993f-f9fbee90138c",
   "metadata": {},
   "outputs": [],
   "source": [
    "df = pd.DataFrame.from_dict(founta)"
   ]
  },
  {
   "cell_type": "code",
   "execution_count": 7,
   "id": "67b8cacd-6391-4dbd-8a46-683a96e99b5b",
   "metadata": {},
   "outputs": [],
   "source": [
    "df = df[['full_text', 'label']]"
   ]
  },
  {
   "cell_type": "code",
   "execution_count": 8,
   "id": "3e765d9a-1292-46c3-9514-11c96208983c",
   "metadata": {},
   "outputs": [],
   "source": [
    "df['label'] = df['label'].replace(['hateful', 'abusive'],'hate')\n",
    "df['label'] = df['label'].replace(['normal', 'spam'],'nonhate')"
   ]
  },
  {
   "cell_type": "code",
   "execution_count": 9,
   "id": "015b99ae-a87f-45a8-a450-f05bdb8dca5d",
   "metadata": {},
   "outputs": [
    {
     "data": {
      "text/plain": [
       "array(['hate', 'nonhate'], dtype=object)"
      ]
     },
     "execution_count": 9,
     "metadata": {},
     "output_type": "execute_result"
    }
   ],
   "source": [
    "df['label'].unique()"
   ]
  },
  {
   "cell_type": "code",
   "execution_count": 10,
   "id": "9aa7fd12-ac2a-47d6-813a-e59e8d61133f",
   "metadata": {},
   "outputs": [
    {
     "data": {
      "text/html": [
       "<div>\n",
       "<style scoped>\n",
       "    .dataframe tbody tr th:only-of-type {\n",
       "        vertical-align: middle;\n",
       "    }\n",
       "\n",
       "    .dataframe tbody tr th {\n",
       "        vertical-align: top;\n",
       "    }\n",
       "\n",
       "    .dataframe thead th {\n",
       "        text-align: right;\n",
       "    }\n",
       "</style>\n",
       "<table border=\"1\" class=\"dataframe\">\n",
       "  <thead>\n",
       "    <tr style=\"text-align: right;\">\n",
       "      <th></th>\n",
       "      <th>full_text</th>\n",
       "      <th>label</th>\n",
       "    </tr>\n",
       "  </thead>\n",
       "  <tbody>\n",
       "    <tr>\n",
       "      <th>0</th>\n",
       "      <td>fucks sake go away stupid anon — ^  https://t....</td>\n",
       "      <td>hate</td>\n",
       "    </tr>\n",
       "    <tr>\n",
       "      <th>1</th>\n",
       "      <td>Carlos Correa had gyalchester as his walkup mu...</td>\n",
       "      <td>nonhate</td>\n",
       "    </tr>\n",
       "    <tr>\n",
       "      <th>2</th>\n",
       "      <td>Damn dean just put Corbin to sleep. That Match...</td>\n",
       "      <td>hate</td>\n",
       "    </tr>\n",
       "    <tr>\n",
       "      <th>3</th>\n",
       "      <td>Dick Tracy Meets Gruesome - the 2017 re-boot\\n...</td>\n",
       "      <td>nonhate</td>\n",
       "    </tr>\n",
       "    <tr>\n",
       "      <th>4</th>\n",
       "      <td>what idiot called them antacids and not afterb...</td>\n",
       "      <td>hate</td>\n",
       "    </tr>\n",
       "    <tr>\n",
       "      <th>...</th>\n",
       "      <td>...</td>\n",
       "      <td>...</td>\n",
       "    </tr>\n",
       "    <tr>\n",
       "      <th>59184</th>\n",
       "      <td>RT @elijahdaniel: our comments section is a fu...</td>\n",
       "      <td>hate</td>\n",
       "    </tr>\n",
       "    <tr>\n",
       "      <th>59185</th>\n",
       "      <td>OH MY GOD LIZ JUST FUCKING BLOCKED ME IM SCREA...</td>\n",
       "      <td>hate</td>\n",
       "    </tr>\n",
       "    <tr>\n",
       "      <th>59186</th>\n",
       "      <td>RT @SilkyRay: Nigga had me fucked up https://t...</td>\n",
       "      <td>hate</td>\n",
       "    </tr>\n",
       "    <tr>\n",
       "      <th>59187</th>\n",
       "      <td>Swear to god it's the worst shit ever https://...</td>\n",
       "      <td>hate</td>\n",
       "    </tr>\n",
       "    <tr>\n",
       "      <th>59188</th>\n",
       "      <td>@FloydMayweather McGregor is going to rotate y...</td>\n",
       "      <td>hate</td>\n",
       "    </tr>\n",
       "  </tbody>\n",
       "</table>\n",
       "<p>59189 rows × 2 columns</p>\n",
       "</div>"
      ],
      "text/plain": [
       "                                               full_text    label\n",
       "0      fucks sake go away stupid anon — ^  https://t....     hate\n",
       "1      Carlos Correa had gyalchester as his walkup mu...  nonhate\n",
       "2      Damn dean just put Corbin to sleep. That Match...     hate\n",
       "3      Dick Tracy Meets Gruesome - the 2017 re-boot\\n...  nonhate\n",
       "4      what idiot called them antacids and not afterb...     hate\n",
       "...                                                  ...      ...\n",
       "59184  RT @elijahdaniel: our comments section is a fu...     hate\n",
       "59185  OH MY GOD LIZ JUST FUCKING BLOCKED ME IM SCREA...     hate\n",
       "59186  RT @SilkyRay: Nigga had me fucked up https://t...     hate\n",
       "59187  Swear to god it's the worst shit ever https://...     hate\n",
       "59188  @FloydMayweather McGregor is going to rotate y...     hate\n",
       "\n",
       "[59189 rows x 2 columns]"
      ]
     },
     "execution_count": 10,
     "metadata": {},
     "output_type": "execute_result"
    }
   ],
   "source": [
    "df"
   ]
  },
  {
   "cell_type": "code",
   "execution_count": 11,
   "id": "638a1dd0-ba99-4020-884d-d98f1f97a273",
   "metadata": {},
   "outputs": [],
   "source": [
    "import cleansetext\n",
    "from cleansetext.pipeline import Pipeline\n",
    "from cleansetext.steps import *\n",
    "from nltk.tokenize import TweetTokenizer\n",
    "\n",
    "tk = TweetTokenizer()\n",
    "\n",
    "# Create a pipeline with a list of preprocessing steps\n",
    "pipeline = Pipeline([\n",
    "    RemoveEmojis(),\n",
    "    RemoveAllPunctuations(),\n",
    "    RemoveTokensWithOnlyPunctuations(),\n",
    "    ReplaceURLsandHTMLTags(),\n",
    "    ReplaceUsernames(),\n",
    "    RemoveWhiteSpaceOrChunksOfWhiteSpace()\n",
    "], track_diffs=False)\n",
    "\n",
    "def apply_preprocessing(text):\n",
    "    text = tk.tokenize(text)\n",
    "    text = pipeline.process(text)\n",
    "    return \" \".join(text)"
   ]
  },
  {
   "cell_type": "code",
   "execution_count": 12,
   "id": "10105ed2-2dc8-48a3-bf33-c6ebfe5fe776",
   "metadata": {},
   "outputs": [],
   "source": [
    "df['full_text'] = df['full_text'].apply(lambda x: apply_preprocessing(x))"
   ]
  },
  {
   "cell_type": "code",
   "execution_count": 13,
   "id": "321a5c00-f5c9-4695-9863-55246591c64f",
   "metadata": {},
   "outputs": [],
   "source": [
    "SAVE_PATH = 'prepared_data/'"
   ]
  },
  {
   "cell_type": "code",
   "execution_count": 16,
   "id": "24f44228-a195-4dd5-8664-b5759b87b90c",
   "metadata": {},
   "outputs": [],
   "source": [
    "from sklearn.model_selection import train_test_split\n",
    "\n",
    "df_train, df_test = train_test_split(df, random_state=42, test_size=0.25)"
   ]
  },
  {
   "cell_type": "code",
   "execution_count": 18,
   "id": "8aa6f8eb-bbfd-422e-b1a9-20bfaba1c3df",
   "metadata": {},
   "outputs": [],
   "source": [
    "df_train.to_csv(SAVE_PATH + 'founta_train.csv')\n",
    "df_test.to_csv(SAVE_PATH + 'founta_test.csv')"
   ]
  }
 ],
 "metadata": {
  "kernelspec": {
   "display_name": "myenv",
   "language": "python",
   "name": "env_name"
  },
  "language_info": {
   "codemirror_mode": {
    "name": "ipython",
    "version": 3
   },
   "file_extension": ".py",
   "mimetype": "text/x-python",
   "name": "python",
   "nbconvert_exporter": "python",
   "pygments_lexer": "ipython3",
   "version": "3.9.15"
  }
 },
 "nbformat": 4,
 "nbformat_minor": 5
}
