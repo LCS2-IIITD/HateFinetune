{
 "cells": [
  {
   "cell_type": "markdown",
   "id": "22639b18-8d19-4606-84b4-957b75b381e5",
   "metadata": {},
   "source": [
    "DynaBench\n",
    "\n",
    "https://github.com/bvidgen/Dynamically-Generated-Hate-Speech-Dataset\n",
    "\n",
    "https://arxiv.org/pdf/2012.15761.pdf"
   ]
  },
  {
   "cell_type": "code",
   "execution_count": 10,
   "id": "2df48045-99da-4907-8034-6e77cb74bb14",
   "metadata": {},
   "outputs": [],
   "source": [
    "# !wget https://raw.githubusercontent.com/bvidgen/Dynamically-Generated-Hate-Speech-Dataset/main/Dynamically%20Generated%20Hate%20Dataset%20v0.2.3.csv"
   ]
  },
  {
   "cell_type": "code",
   "execution_count": 1,
   "id": "bda02f7b-f86a-4d4c-a187-250e61a4e63b",
   "metadata": {},
   "outputs": [],
   "source": [
    "import pandas as pd"
   ]
  },
  {
   "cell_type": "code",
   "execution_count": 2,
   "id": "7198b88c-9f3b-49cf-93f3-bdd5ec6e58f2",
   "metadata": {},
   "outputs": [],
   "source": [
    "df_dynabench = pd.read_csv(\"raw_data/Dynamically Generated Hate Dataset v0.2.3.csv\")"
   ]
  },
  {
   "cell_type": "code",
   "execution_count": 3,
   "id": "44c4827b-f4e7-4bb6-935a-bad531be6cd5",
   "metadata": {},
   "outputs": [],
   "source": [
    "df_dynabench = df_dynabench[['text', 'label', 'type', 'target', 'level', 'split']]"
   ]
  },
  {
   "cell_type": "code",
   "execution_count": 4,
   "id": "2c3b3ec7-9de7-4d16-8045-c0c03253c69b",
   "metadata": {},
   "outputs": [
    {
     "data": {
      "text/html": [
       "<div>\n",
       "<style scoped>\n",
       "    .dataframe tbody tr th:only-of-type {\n",
       "        vertical-align: middle;\n",
       "    }\n",
       "\n",
       "    .dataframe tbody tr th {\n",
       "        vertical-align: top;\n",
       "    }\n",
       "\n",
       "    .dataframe thead th {\n",
       "        text-align: right;\n",
       "    }\n",
       "</style>\n",
       "<table border=\"1\" class=\"dataframe\">\n",
       "  <thead>\n",
       "    <tr style=\"text-align: right;\">\n",
       "      <th></th>\n",
       "      <th>text</th>\n",
       "      <th>label</th>\n",
       "      <th>type</th>\n",
       "      <th>target</th>\n",
       "      <th>level</th>\n",
       "      <th>split</th>\n",
       "    </tr>\n",
       "  </thead>\n",
       "  <tbody>\n",
       "    <tr>\n",
       "      <th>0</th>\n",
       "      <td>dalits are lowlives</td>\n",
       "      <td>hate</td>\n",
       "      <td>notgiven</td>\n",
       "      <td>notgiven</td>\n",
       "      <td>original</td>\n",
       "      <td>train</td>\n",
       "    </tr>\n",
       "    <tr>\n",
       "      <th>1</th>\n",
       "      <td>gay people are a burden to our society</td>\n",
       "      <td>hate</td>\n",
       "      <td>notgiven</td>\n",
       "      <td>notgiven</td>\n",
       "      <td>original</td>\n",
       "      <td>train</td>\n",
       "    </tr>\n",
       "    <tr>\n",
       "      <th>2</th>\n",
       "      <td>Arabs are not welcome</td>\n",
       "      <td>hate</td>\n",
       "      <td>notgiven</td>\n",
       "      <td>notgiven</td>\n",
       "      <td>original</td>\n",
       "      <td>train</td>\n",
       "    </tr>\n",
       "    <tr>\n",
       "      <th>3</th>\n",
       "      <td>I'm not saying we should actually eliminate he...</td>\n",
       "      <td>hate</td>\n",
       "      <td>notgiven</td>\n",
       "      <td>notgiven</td>\n",
       "      <td>original</td>\n",
       "      <td>train</td>\n",
       "    </tr>\n",
       "    <tr>\n",
       "      <th>4</th>\n",
       "      <td>bananas are for black people</td>\n",
       "      <td>hate</td>\n",
       "      <td>notgiven</td>\n",
       "      <td>notgiven</td>\n",
       "      <td>original</td>\n",
       "      <td>test</td>\n",
       "    </tr>\n",
       "    <tr>\n",
       "      <th>...</th>\n",
       "      <td>...</td>\n",
       "      <td>...</td>\n",
       "      <td>...</td>\n",
       "      <td>...</td>\n",
       "      <td>...</td>\n",
       "      <td>...</td>\n",
       "    </tr>\n",
       "    <tr>\n",
       "      <th>41139</th>\n",
       "      <td>Indian culture is so backwards</td>\n",
       "      <td>hate</td>\n",
       "      <td>notgiven</td>\n",
       "      <td>notgiven</td>\n",
       "      <td>original</td>\n",
       "      <td>test</td>\n",
       "    </tr>\n",
       "    <tr>\n",
       "      <th>41140</th>\n",
       "      <td>Women don't want equality, they just want to b...</td>\n",
       "      <td>hate</td>\n",
       "      <td>derogation</td>\n",
       "      <td>wom</td>\n",
       "      <td>original</td>\n",
       "      <td>train</td>\n",
       "    </tr>\n",
       "    <tr>\n",
       "      <th>41141</th>\n",
       "      <td>fuck covid</td>\n",
       "      <td>nothate</td>\n",
       "      <td>none</td>\n",
       "      <td>none</td>\n",
       "      <td>original</td>\n",
       "      <td>train</td>\n",
       "    </tr>\n",
       "    <tr>\n",
       "      <th>41142</th>\n",
       "      <td>This computer is garbage</td>\n",
       "      <td>nothate</td>\n",
       "      <td>none</td>\n",
       "      <td>none</td>\n",
       "      <td>original</td>\n",
       "      <td>train</td>\n",
       "    </tr>\n",
       "    <tr>\n",
       "      <th>41143</th>\n",
       "      <td>The only good Muslim is a dead one</td>\n",
       "      <td>hate</td>\n",
       "      <td>threatening</td>\n",
       "      <td>mus</td>\n",
       "      <td>original</td>\n",
       "      <td>train</td>\n",
       "    </tr>\n",
       "  </tbody>\n",
       "</table>\n",
       "<p>41144 rows × 6 columns</p>\n",
       "</div>"
      ],
      "text/plain": [
       "                                                    text    label  \\\n",
       "0                                    dalits are lowlives     hate   \n",
       "1                 gay people are a burden to our society     hate   \n",
       "2                                  Arabs are not welcome     hate   \n",
       "3      I'm not saying we should actually eliminate he...     hate   \n",
       "4                           bananas are for black people     hate   \n",
       "...                                                  ...      ...   \n",
       "41139                     Indian culture is so backwards     hate   \n",
       "41140  Women don't want equality, they just want to b...     hate   \n",
       "41141                                         fuck covid  nothate   \n",
       "41142                           This computer is garbage  nothate   \n",
       "41143                 The only good Muslim is a dead one     hate   \n",
       "\n",
       "              type    target     level  split  \n",
       "0         notgiven  notgiven  original  train  \n",
       "1         notgiven  notgiven  original  train  \n",
       "2         notgiven  notgiven  original  train  \n",
       "3         notgiven  notgiven  original  train  \n",
       "4         notgiven  notgiven  original   test  \n",
       "...            ...       ...       ...    ...  \n",
       "41139     notgiven  notgiven  original   test  \n",
       "41140   derogation       wom  original  train  \n",
       "41141         none      none  original  train  \n",
       "41142         none      none  original  train  \n",
       "41143  threatening       mus  original  train  \n",
       "\n",
       "[41144 rows x 6 columns]"
      ]
     },
     "execution_count": 4,
     "metadata": {},
     "output_type": "execute_result"
    }
   ],
   "source": [
    "df_dynabench"
   ]
  },
  {
   "cell_type": "code",
   "execution_count": 5,
   "id": "69c52de7-a1fd-424b-8f6b-86cc14b2ed66",
   "metadata": {},
   "outputs": [],
   "source": [
    "import cleansetext\n",
    "from cleansetext.pipeline import Pipeline\n",
    "from cleansetext.steps import *\n",
    "from nltk.tokenize import TweetTokenizer\n",
    "\n",
    "tk = TweetTokenizer()\n",
    "\n",
    "# Create a pipeline with a list of preprocessing steps\n",
    "pipeline = Pipeline([\n",
    "    RemoveEmojis(),\n",
    "    RemoveAllPunctuations(),\n",
    "    RemoveTokensWithOnlyPunctuations(),\n",
    "    ReplaceURLsandHTMLTags(),\n",
    "    ReplaceUsernames(),\n",
    "    RemoveWhiteSpaceOrChunksOfWhiteSpace()\n",
    "], track_diffs=False)\n",
    "\n",
    "def apply_preprocessing(text):\n",
    "    text = tk.tokenize(text)\n",
    "    text = pipeline.process(text)\n",
    "    return \" \".join(text)"
   ]
  },
  {
   "cell_type": "code",
   "execution_count": 6,
   "id": "048c1938-7d82-4b50-bfa8-c128602175ee",
   "metadata": {},
   "outputs": [],
   "source": [
    "df_dynabench['text'] = df_dynabench['text'].apply(lambda x: apply_preprocessing(x))"
   ]
  },
  {
   "cell_type": "code",
   "execution_count": 9,
   "id": "02fd9f17-dfdc-4741-aa28-cd8e3d91a827",
   "metadata": {},
   "outputs": [],
   "source": [
    "df_dynabench_label_detection = df_dynabench[['text', 'label']]\n",
    "df_dynabench_type_detection = df_dynabench[['text', 'type']]\n",
    "df_dynabench_target_detection = df_dynabench[['text', 'target']]"
   ]
  },
  {
   "cell_type": "code",
   "execution_count": 11,
   "id": "92c17146-469f-4ebe-ab0d-fe3f8d783edd",
   "metadata": {},
   "outputs": [
    {
     "data": {
      "text/plain": [
       "array(['notgiven', 'none', 'derogation', 'animosity', 'dehumanization',\n",
       "       'threatening', 'support'], dtype=object)"
      ]
     },
     "execution_count": 11,
     "metadata": {},
     "output_type": "execute_result"
    }
   ],
   "source": [
    "df_dynabench_type_detection['type'].unique()"
   ]
  },
  {
   "cell_type": "code",
   "execution_count": 18,
   "id": "e0f9dee2-df1f-4fb9-a7fa-39ed878b4970",
   "metadata": {},
   "outputs": [],
   "source": [
    "types = df_dynabench_type_detection['type'].to_list()\n",
    "texts = df_dynabench_type_detection['text'].to_list()\n",
    "\n",
    "t2 = []\n",
    "ty2 = []\n",
    "for i, j in zip(texts, types):\n",
    "    if j in ['notgiven', 'none']:\n",
    "        continue\n",
    "    else:\n",
    "        t2.append(i)\n",
    "        ty2.append(j)"
   ]
  },
  {
   "cell_type": "code",
   "execution_count": 23,
   "id": "db0a3f85-2e32-4887-815d-c33d7d783933",
   "metadata": {},
   "outputs": [],
   "source": [
    "import pandas as pd\n",
    "my_dict = {'text':t2, 'type':ty2} # Set column ordering here\n",
    "df_dynabench_type_detection = pd.DataFrame.from_dict(my_dict)"
   ]
  },
  {
   "cell_type": "code",
   "execution_count": 25,
   "id": "1077723e-9987-4d62-ba40-3b965ade8fbb",
   "metadata": {},
   "outputs": [],
   "source": [
    "from sklearn.model_selection import train_test_split\n",
    "\n",
    "df_dynabench_label_detection_train, df_dynabench_label_detection_test = train_test_split(df_dynabench_label_detection, test_size=0.25, random_state=42)\n",
    "df_dynabench_type_detection_train, df_dynabench_type_detection_test = train_test_split(df_dynabench_type_detection, test_size=0.25, random_state=42)"
   ]
  },
  {
   "cell_type": "code",
   "execution_count": 28,
   "id": "e22c0c52-34f5-4d68-844d-057600ad1cd1",
   "metadata": {},
   "outputs": [],
   "source": [
    "SAVE_PATH = 'prepared_data/'"
   ]
  },
  {
   "cell_type": "code",
   "execution_count": 29,
   "id": "877a9fc1-9a42-4464-a25e-79e1eef22d2b",
   "metadata": {},
   "outputs": [],
   "source": [
    "df_dynabench_label_detection_train.to_csv(SAVE_PATH + 'df_dynabench_label_detection_train.csv')\n",
    "df_dynabench_label_detection_test.to_csv(SAVE_PATH + 'df_dynabench_label_detection_test.csv')\n",
    "\n",
    "df_dynabench_type_detection_train.to_csv(SAVE_PATH + 'df_dynabench_type_detection_train.csv')\n",
    "df_dynabench_type_detection_test.to_csv(SAVE_PATH + 'df_dynabench_type_detection_test.csv')"
   ]
  }
 ],
 "metadata": {
  "kernelspec": {
   "display_name": "myenv",
   "language": "python",
   "name": "env_name"
  },
  "language_info": {
   "codemirror_mode": {
    "name": "ipython",
    "version": 3
   },
   "file_extension": ".py",
   "mimetype": "text/x-python",
   "name": "python",
   "nbconvert_exporter": "python",
   "pygments_lexer": "ipython3",
   "version": "3.9.15"
  }
 },
 "nbformat": 4,
 "nbformat_minor": 5
}
