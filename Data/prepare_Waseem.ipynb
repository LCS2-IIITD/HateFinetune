{
 "cells": [
  {
   "cell_type": "code",
   "execution_count": 1,
   "id": "770742be-2752-493d-b652-f00e96d00356",
   "metadata": {},
   "outputs": [],
   "source": [
    "import pandas as pd"
   ]
  },
  {
   "cell_type": "code",
   "execution_count": 2,
   "id": "060f6158-b2a5-4e9b-a6ee-87783225a462",
   "metadata": {},
   "outputs": [],
   "source": [
    "import json\n",
    "with open('raw_data/waseem_data (1).json') as f:\n",
    "  waseem = json.load(f)"
   ]
  },
  {
   "cell_type": "code",
   "execution_count": 3,
   "id": "2dbc76d1-953a-476d-ba6d-f5c91e1b014a",
   "metadata": {},
   "outputs": [],
   "source": [
    "df = pd.DataFrame.from_dict(waseem, orient=\"index\")"
   ]
  },
  {
   "cell_type": "code",
   "execution_count": 4,
   "id": "eb0f7c53-1002-4f68-9054-5f054125378d",
   "metadata": {},
   "outputs": [
    {
     "data": {
      "text/html": [
       "<div>\n",
       "<style scoped>\n",
       "    .dataframe tbody tr th:only-of-type {\n",
       "        vertical-align: middle;\n",
       "    }\n",
       "\n",
       "    .dataframe tbody tr th {\n",
       "        vertical-align: top;\n",
       "    }\n",
       "\n",
       "    .dataframe thead th {\n",
       "        text-align: right;\n",
       "    }\n",
       "</style>\n",
       "<table border=\"1\" class=\"dataframe\">\n",
       "  <thead>\n",
       "    <tr style=\"text-align: right;\">\n",
       "      <th></th>\n",
       "      <th>raw_text</th>\n",
       "      <th>raw_label</th>\n",
       "      <th>label_map</th>\n",
       "    </tr>\n",
       "  </thead>\n",
       "  <tbody>\n",
       "    <tr>\n",
       "      <th>572332655397629952</th>\n",
       "      <td>these girls are the equivalent of the irritati...</td>\n",
       "      <td>racism</td>\n",
       "      <td>1</td>\n",
       "    </tr>\n",
       "    <tr>\n",
       "      <th>572341498827522049</th>\n",
       "      <td>drasko they didn't cook half a bird you idiot ...</td>\n",
       "      <td>none</td>\n",
       "      <td>0</td>\n",
       "    </tr>\n",
       "  </tbody>\n",
       "</table>\n",
       "</div>"
      ],
      "text/plain": [
       "                                                             raw_text  \\\n",
       "572332655397629952  these girls are the equivalent of the irritati...   \n",
       "572341498827522049  drasko they didn't cook half a bird you idiot ...   \n",
       "\n",
       "                   raw_label  label_map  \n",
       "572332655397629952    racism          1  \n",
       "572341498827522049      none          0  "
      ]
     },
     "execution_count": 4,
     "metadata": {},
     "output_type": "execute_result"
    }
   ],
   "source": [
    "df.head(2)"
   ]
  },
  {
   "cell_type": "code",
   "execution_count": 5,
   "id": "e5711dc6-be4b-43f3-8017-2553812c9f06",
   "metadata": {},
   "outputs": [],
   "source": [
    "posts = df['raw_text'].to_list()\n",
    "raw_labels = df['raw_label'].to_list()"
   ]
  },
  {
   "cell_type": "code",
   "execution_count": 6,
   "id": "cf49795d-2e49-47b7-bd1e-3b697d30aeb3",
   "metadata": {},
   "outputs": [
    {
     "data": {
      "text/plain": [
       "{'none', 'racism', 'sexism'}"
      ]
     },
     "execution_count": 6,
     "metadata": {},
     "output_type": "execute_result"
    }
   ],
   "source": [
    "set(raw_labels)"
   ]
  },
  {
   "cell_type": "code",
   "execution_count": 7,
   "id": "c4b0393a-dd54-44b8-8897-191382848c93",
   "metadata": {},
   "outputs": [],
   "source": [
    "labels = []\n",
    "for i in raw_labels:\n",
    "    if i in ['racism', 'sexism']:\n",
    "        labels.append('Hate')\n",
    "    else:\n",
    "        labels.append('NonHate')"
   ]
  },
  {
   "cell_type": "code",
   "execution_count": 8,
   "id": "ceebb59d-3cc2-4a57-898c-7bbf128729f9",
   "metadata": {},
   "outputs": [],
   "source": [
    "df = pd.DataFrame({'final_posts':posts, \n",
    "                              'final_labels':labels, \n",
    "                            })"
   ]
  },
  {
   "cell_type": "code",
   "execution_count": 10,
   "id": "8e2a4511-e605-4beb-83a3-fc889d5eb0e8",
   "metadata": {},
   "outputs": [],
   "source": [
    "import cleansetext\n",
    "from cleansetext.pipeline import Pipeline\n",
    "from cleansetext.steps import *\n",
    "from nltk.tokenize import TweetTokenizer\n",
    "\n",
    "tk = TweetTokenizer()\n",
    "\n",
    "# Create a pipeline with a list of preprocessing steps\n",
    "pipeline = Pipeline([\n",
    "    RemoveEmojis(),\n",
    "    RemoveAllPunctuations(),\n",
    "    RemoveTokensWithOnlyPunctuations(),\n",
    "    ReplaceURLsandHTMLTags(),\n",
    "    ReplaceUsernames(),\n",
    "    RemoveWhiteSpaceOrChunksOfWhiteSpace()\n",
    "], track_diffs=False)\n",
    "\n",
    "def apply_preprocessing(text):\n",
    "    text = tk.tokenize(text)\n",
    "    text = pipeline.process(text)\n",
    "    return \" \".join(text)"
   ]
  },
  {
   "cell_type": "code",
   "execution_count": 11,
   "id": "f808fa63-91c3-4fef-b6f9-561bc6b94a11",
   "metadata": {},
   "outputs": [],
   "source": [
    "df['final_posts'] = df['final_posts'].apply(lambda x: apply_preprocessing(x))"
   ]
  },
  {
   "cell_type": "code",
   "execution_count": 12,
   "id": "63968769-91a7-43c8-88b5-272474854b12",
   "metadata": {},
   "outputs": [],
   "source": [
    "from sklearn.model_selection import train_test_split\n",
    "\n",
    "df_waseem_train, df_waseem_test = train_test_split(df, random_state=42, test_size=0.25)"
   ]
  },
  {
   "cell_type": "code",
   "execution_count": 13,
   "id": "9e17bbf9-c9da-46e2-8643-b1364b5f4b4f",
   "metadata": {},
   "outputs": [],
   "source": [
    "SAVE_PATH = 'prepared_data/'\n",
    "\n",
    "df_waseem_train.to_csv(SAVE_PATH + 'df_waseem_train.csv')\n",
    "df_waseem_test.to_csv(SAVE_PATH + 'df_waseem_test.csv')"
   ]
  },
  {
   "cell_type": "code",
   "execution_count": null,
   "id": "7f744814-ad44-4f24-af2e-0235aa551cff",
   "metadata": {},
   "outputs": [],
   "source": []
  }
 ],
 "metadata": {
  "kernelspec": {
   "display_name": "myenv",
   "language": "python",
   "name": "env_name"
  },
  "language_info": {
   "codemirror_mode": {
    "name": "ipython",
    "version": 3
   },
   "file_extension": ".py",
   "mimetype": "text/x-python",
   "name": "python",
   "nbconvert_exporter": "python",
   "pygments_lexer": "ipython3",
   "version": "3.9.15"
  }
 },
 "nbformat": 4,
 "nbformat_minor": 5
}
